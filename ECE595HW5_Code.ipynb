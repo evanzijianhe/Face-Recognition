{
  "nbformat": 4,
  "nbformat_minor": 0,
  "metadata": {
    "colab": {
      "name": "ECE595HW5_Code.ipynb",
      "provenance": [],
      "machine_shape": "hm",
      "collapsed_sections": [
        "Fu6JdWkQQIaf",
        "tBuryizIl-Ay",
        "Y5PZ3ODhTA4h"
      ],
      "authorship_tag": "ABX9TyMHhXlGBv6DJAYq6PaUaZKe",
      "include_colab_link": true
    },
    "kernelspec": {
      "name": "python3",
      "display_name": "Python 3"
    },
    "language_info": {
      "name": "python"
    },
    "accelerator": "GPU"
  },
  "cells": [
    {
      "cell_type": "markdown",
      "metadata": {
        "id": "view-in-github",
        "colab_type": "text"
      },
      "source": [
        "<a href=\"https://colab.research.google.com/github/evanzijianhe/Face_Recognition/blob/main/ECE595HW5_Code.ipynb\" target=\"_parent\"><img src=\"https://colab.research.google.com/assets/colab-badge.svg\" alt=\"Open In Colab\"/></a>"
      ]
    },
    {
      "cell_type": "code",
      "source": [
        "from google.colab import drive\n",
        "drive.mount('/content/drive')"
      ],
      "metadata": {
        "colab": {
          "base_uri": "https://localhost:8080/"
        },
        "id": "25uB9RH3mv3F",
        "outputId": "e0dad17c-91ae-4bae-ec48-7e4a9cc32dd0"
      },
      "execution_count": null,
      "outputs": [
        {
          "output_type": "stream",
          "name": "stdout",
          "text": [
            "Mounted at /content/drive\n"
          ]
        }
      ]
    },
    {
      "cell_type": "code",
      "source": [
        "!pip install face_recognition"
      ],
      "metadata": {
        "id": "eVb8VEn2S2Fg"
      },
      "execution_count": null,
      "outputs": []
    },
    {
      "cell_type": "markdown",
      "source": [
        "# Data Labels (Colab)"
      ],
      "metadata": {
        "id": "SRNHc2TJSG5E"
      }
    },
    {
      "cell_type": "markdown",
      "source": [
        "Because I did not find a good way to use text labels, I just converted them back to number labels based on the category file"
      ],
      "metadata": {
        "id": "DqWoI24jSQCn"
      }
    },
    {
      "cell_type": "code",
      "execution_count": null,
      "metadata": {
        "id": "hVj1Y_qwrEG2"
      },
      "outputs": [],
      "source": [
        "import numpy as np\n",
        "import pandas as pd\n",
        "import matplotlib.pyplot as plt\n",
        "import cvxpy as cp\n",
        "import csv\n",
        "from tabulate import tabulate\n",
        "# import pandas\n",
        "import numpy as geek \n",
        "plt.rcParams['figure.dpi'] = 100\n",
        "plt.rcParams['savefig.dpi'] = 100"
      ]
    },
    {
      "cell_type": "code",
      "source": [
        "from google.colab import drive\n",
        "drive.mount('/content/drive')"
      ],
      "metadata": {
        "colab": {
          "base_uri": "https://localhost:8080/"
        },
        "id": "KElDQRl1sDnA",
        "outputId": "632afd34-595e-487e-d3b3-7e81da592294"
      },
      "execution_count": null,
      "outputs": [
        {
          "output_type": "stream",
          "name": "stdout",
          "text": [
            "Mounted at /content/drive\n"
          ]
        }
      ]
    },
    {
      "cell_type": "code",
      "source": [
        "category_path = \"/content/drive/MyDrive/Colab Notebooks/HW5_data/ece595ml-s2022/category.csv\"\n",
        "train_path = \"/content/drive/MyDrive/Colab Notebooks/HW5_data/ece595ml-s2022/train.csv\""
      ],
      "metadata": {
        "id": "m8bCq626t9Lk"
      },
      "execution_count": null,
      "outputs": []
    },
    {
      "cell_type": "code",
      "source": [
        "category = pd.read_csv(category_path, header = 0)\n",
        "train = pd.read_csv(train_path, header = 0)"
      ],
      "metadata": {
        "id": "xHzIIusfuK5V"
      },
      "execution_count": null,
      "outputs": []
    },
    {
      "cell_type": "code",
      "source": [
        "train_index = train['Index']\n",
        "train_number_data = np.shape(train_index)[0]\n",
        "category_index = category['Index']\n",
        "category_number_data = np.shape(category_index)[0]\n",
        "train_label = np.zeros(train_number_data)"
      ],
      "metadata": {
        "id": "jALi-BpZwel5"
      },
      "execution_count": null,
      "outputs": []
    },
    {
      "cell_type": "code",
      "source": [
        "for ii in range(category_number_data):\n",
        "  category_index = category.iloc[ii,1]\n",
        "  train_label_0 = train.loc[train['Category']== category_index ,'Index']\n",
        "  train_label_vec = train_label_0.values\n",
        "  for jj in range(len(train_label_vec)):\n",
        "    train_label[train_label_vec[jj]]= int(ii)"
      ],
      "metadata": {
        "id": "Wmm_Gp6q-iFb"
      },
      "execution_count": null,
      "outputs": []
    },
    {
      "cell_type": "code",
      "source": [
        "train_index_table = train_index.values\n",
        "# train_small_label_table = {'index': train_small_index_table,'labels':train_small_label}\n",
        "train_small_label_table = pd.DataFrame(data = {'index': train_index_table,'labels':train_label})"
      ],
      "metadata": {
        "id": "XG2orAx_yafi"
      },
      "execution_count": null,
      "outputs": []
    },
    {
      "cell_type": "code",
      "source": [
        "pd.DataFrame.to_csv(train_small_label_table,'/content/drive/MyDrive/Colab Notebooks/HW5_data/ece595ml-s2022/train_category.csv')  "
      ],
      "metadata": {
        "id": "_l12TzJf6ocf"
      },
      "execution_count": null,
      "outputs": []
    },
    {
      "cell_type": "markdown",
      "source": [
        "# Data Preparation (Local machine)"
      ],
      "metadata": {
        "id": "o81A1-dPP_f9"
      }
    },
    {
      "cell_type": "markdown",
      "source": [
        "Capture Face from the picture, crop it and save it to local folder"
      ],
      "metadata": {
        "id": "GrST6dlmQZpg"
      }
    },
    {
      "cell_type": "code",
      "source": [
        "import numpy as np\n",
        "import cv2\n",
        "import os\n",
        "import face_recognition\n",
        "import matplotlib.pyplot as plt\n",
        "import pandas as pd\n",
        "from PIL import Image\n",
        "\n",
        "path = r'E:\\train\\facedata\\test\\test/'\n",
        "image_list = os.listdir(path)\n",
        "\n",
        "test_data = []\n",
        "\n",
        "\n",
        "def save_file(img,name,x,y,width,height):\n",
        "  image=img[y:y+height,x:x+width]\n",
        "  cv2.imwrite(name,image)\n",
        "\n",
        "def resize_pic(image, size=(100, 100)):\n",
        "    height, width, _ = image.shape\n",
        "    longest_edge = max(height, width)\n",
        "    top, bottom, left, right = 0, 0, 0, 0\n",
        "    if height < longest_edge:\n",
        "        height_diff = longest_edge - height\n",
        "        top = int(height_diff / 2)\n",
        "        bottom = height_diff - top\n",
        "    elif width < longest_edge:\n",
        "        width_diff = longest_edge - width\n",
        "        left = int(width_diff / 2)\n",
        "        right = width_diff - left\n",
        "    image_with_border = cv2.copyMakeBorder(image, top, bottom, left, \\\n",
        "                right, cv2.BORDER_CONSTANT, value=[0, 0, 0])\n",
        "    resized_image = cv2.resize(image_with_border, size)\n",
        "    return resized_image\n",
        "\n",
        "def read_crop_save_image():\n",
        "    number_img = len(image_list)\n",
        "    CASE_PATH = r\"E:\\train\\facedata\\haarcascade_frontalface_default.xml\"\n",
        "    face_cascade=cv2.CascadeClassifier(CASE_PATH)\n",
        "    for ii in range (number_img):\n",
        "        img = face_recognition.load_image_file(path + '%s.jpg'%ii)\n",
        "        plt.imshow = img\n",
        "        gray = cv2.cvtColor(img,cv2.COLOR_BGR2GRAY)\n",
        "        faces = face_cascade.detectMultiScale(gray, 1.3, 5)\n",
        "        faces = face_cascade.detectMultiScale(gray,scaleFactor=1.3,\\\n",
        "                          minNeighbors=5,minSize=(5,5),)\n",
        "        if len(faces) == 0:\n",
        "            cv2.imwrite(r'E:\\train\\facedata\\test_data_face_crop\\%s.bmp'%ii,img)\n",
        "            print(ii)\n",
        "        else:\n",
        "            for (x,y,w,h) in faces:\n",
        "              cv2.rectangle(img,(x,y),(x+w,y+h),(255,0,0),2)\n",
        "              save_file(img,'%s%d.bmp'%(r'E:\\train\\facedata\\test_data_face_crop/',ii),x,y,w,h)\n",
        "if __name__ == '__main__':\n",
        "    image_size = 100\n",
        "    read_crop_save_image()"
      ],
      "metadata": {
        "id": "qbOq_6uyQHNt"
      },
      "execution_count": null,
      "outputs": []
    },
    {
      "cell_type": "markdown",
      "source": [
        "Read the face_cropped images and save it as .npy file. This file will be uploaded to colab and used to train prediction model "
      ],
      "metadata": {
        "id": "R1n8KlMjQkbM"
      }
    },
    {
      "cell_type": "code",
      "source": [
        "path = r'E:\\train\\facedata\\test_data_face_crop/'\n",
        "image_list = os.listdir(path)\n",
        "\n",
        "test_data = []\n",
        "\n",
        "def resize_pic(image, size=(100, 100)):\n",
        "    height, width, _ = image.shape\n",
        "    longest_edge = max(height, width)\n",
        "    top, bottom, left, right = 0, 0, 0, 0\n",
        "    if height < longest_edge:\n",
        "        height_diff = longest_edge - height\n",
        "        top = int(height_diff / 2)\n",
        "        bottom = height_diff - top\n",
        "    elif width < longest_edge:\n",
        "        width_diff = longest_edge - width\n",
        "        left = int(width_diff / 2)\n",
        "        right = width_diff - left\n",
        "    image_with_border = cv2.copyMakeBorder(image, top, bottom, left,\\\n",
        "                right, cv2.BORDER_CONSTANT, value=[0, 0, 0])\n",
        "    resized_image = cv2.resize(image_with_border, size)\n",
        "    return resized_image\n",
        "\n",
        "\n",
        "def read_image(size=None):\n",
        "    data_x = []\n",
        "    number_img = len(image_list)\n",
        "    for i in range(number_img):\n",
        "        try:\n",
        "            im = face_recognition.load_image_file(path+'%s.bmp'%i)\n",
        "            if size is None:\n",
        "                size = (100, 100)\n",
        "            im = resize_pic(im, size)\n",
        "            data_x.append(np.asarray(im, dtype=np.int8))\n",
        "            print(i)\n",
        "        except IOError as e:\n",
        "            print(e)\n",
        "        except:\n",
        "            print('UnknownError!')\n",
        "    return data_x\n",
        "\n",
        "if __name__ == '__main__':\n",
        "    image_size = 100\n",
        "    test_images = read_image(size = (image_size,image_size))\n",
        "    test_images = np.asarray(test_images,dtype=np.float32)\n",
        "    print(np.shape(test_images))\n",
        "    np.save('test_data_face_crop',test_images)\n",
        "    print('complete')\n"
      ],
      "metadata": {
        "id": "HnEycB3yQo4i"
      },
      "execution_count": null,
      "outputs": []
    },
    {
      "cell_type": "markdown",
      "source": [
        "# Training Model (Colab)"
      ],
      "metadata": {
        "id": "Fu6JdWkQQIaf"
      }
    },
    {
      "cell_type": "code",
      "source": [
        "import numpy as np\n",
        "import matplotlib.pyplot as plt\n",
        "import tensorflow as tf"
      ],
      "metadata": {
        "id": "EYAF8O-DmvmU"
      },
      "execution_count": null,
      "outputs": []
    },
    {
      "cell_type": "code",
      "source": [
        "train_labels = np.load(\"/content/drive/MyDrive/Colab Notebooks/HW5_data/train_labels_array.npy\")\n",
        "train_input = np.load(\"/content/drive/MyDrive/Colab Notebooks/HW5_data/train_data_face_crop.npy\")"
      ],
      "metadata": {
        "id": "xzcBuc4RFcrx"
      },
      "execution_count": null,
      "outputs": []
    },
    {
      "cell_type": "code",
      "source": [
        "from keras.utils import np_utils\n",
        "train_output = np_utils.to_categorical(train_labels)"
      ],
      "metadata": {
        "id": "kneRJaLkG2EA"
      },
      "execution_count": null,
      "outputs": []
    },
    {
      "cell_type": "code",
      "source": [
        "train_input /= 255.0\n",
        "# valid_input /= 255.0"
      ],
      "metadata": {
        "id": "dUlk_K3jmvOg"
      },
      "execution_count": null,
      "outputs": []
    },
    {
      "cell_type": "code",
      "source": [
        "from tensorflow import keras\n",
        "from tensorflow.keras.layers import Conv2D, MaxPooling2D\n",
        "from tensorflow.keras.layers import Dense, Dropout, Flatten\n",
        "from keras.regularizers import l2\n",
        "from tensorflow.keras.optimizers import Adam\n",
        "from tensorflow.keras.optimizers import SGD"
      ],
      "metadata": {
        "id": "jvUicm_zntGY"
      },
      "execution_count": null,
      "outputs": []
    },
    {
      "cell_type": "code",
      "source": [
        "image_size = 100"
      ],
      "metadata": {
        "id": "ipMr98pvnuXf"
      },
      "execution_count": null,
      "outputs": []
    },
    {
      "cell_type": "code",
      "source": [
        "face_recognition_model=keras.Sequential()\n",
        "face_recognition_model.add(Conv2D(32,(3,3),padding='valid',strides=(1,1),\\\n",
        "          input_shape=(image_size,image_size,3),activation='relu'))\n",
        "face_recognition_model.add(Conv2D(32,(3,3),padding='valid',strides=(1,1),\\\n",
        "                              activation='relu'))"
      ],
      "metadata": {
        "id": "Afm9vZ6WnvjT"
      },
      "execution_count": null,
      "outputs": []
    },
    {
      "cell_type": "code",
      "source": [
        "face_recognition_model.add(MaxPooling2D(pool_size=(2, 2)))"
      ],
      "metadata": {
        "id": "8EJw8zD1nwci"
      },
      "execution_count": null,
      "outputs": []
    },
    {
      "cell_type": "code",
      "source": [
        "face_recognition_model.add(Dropout(0.2))"
      ],
      "metadata": {
        "id": "KIrw_AbxnxL9"
      },
      "execution_count": null,
      "outputs": []
    },
    {
      "cell_type": "code",
      "source": [
        "face_recognition_model.add(Conv2D(64,(3,3),padding='valid',\n",
        "strides=(1,1),\n",
        "activation='relu'))\n",
        " \n",
        "face_recognition_model.add(Conv2D(64,(3,3),padding='valid',\n",
        "strides=(1,1),\n",
        "activation='relu'))\n",
        " \n",
        "face_recognition_model.add(MaxPooling2D(pool_size=(2,2)))\n",
        "face_recognition_model.add(Dropout(0.2))"
      ],
      "metadata": {
        "id": "5GcItdlFnyPt"
      },
      "execution_count": null,
      "outputs": []
    },
    {
      "cell_type": "code",
      "source": [
        "face_recognition_model.add(Flatten())"
      ],
      "metadata": {
        "id": "UmXbltQ2nzRl"
      },
      "execution_count": null,
      "outputs": []
    },
    {
      "cell_type": "code",
      "source": [
        "face_recognition_model.add(Dense(512, activation = 'relu',\\\n",
        "                  kernel_regularizer=l2(0.001)))\n",
        "face_recognition_model.add(Dropout(0.4))"
      ],
      "metadata": {
        "id": "ulotSLdGn0eW"
      },
      "execution_count": null,
      "outputs": []
    },
    {
      "cell_type": "code",
      "source": [
        "face_recognition_model.add(Dense(len(train_output[0]),\\\n",
        "                    activation = 'softmax'))"
      ],
      "metadata": {
        "id": "bJ1iBSmin1aR"
      },
      "execution_count": null,
      "outputs": []
    },
    {
      "cell_type": "code",
      "source": [
        "face_recognition_model.summary()"
      ],
      "metadata": {
        "colab": {
          "base_uri": "https://localhost:8080/"
        },
        "id": "1h0zMh98n2Kk",
        "outputId": "93a8a19c-0854-45b7-8ecd-5fa2d4f57900"
      },
      "execution_count": null,
      "outputs": [
        {
          "output_type": "stream",
          "name": "stdout",
          "text": [
            "Model: \"sequential\"\n",
            "_________________________________________________________________\n",
            " Layer (type)                Output Shape              Param #   \n",
            "=================================================================\n",
            " conv2d (Conv2D)             (None, 98, 98, 32)        896       \n",
            "                                                                 \n",
            " conv2d_1 (Conv2D)           (None, 96, 96, 32)        9248      \n",
            "                                                                 \n",
            " max_pooling2d (MaxPooling2D  (None, 48, 48, 32)       0         \n",
            " )                                                               \n",
            "                                                                 \n",
            " dropout (Dropout)           (None, 48, 48, 32)        0         \n",
            "                                                                 \n",
            " conv2d_2 (Conv2D)           (None, 46, 46, 64)        18496     \n",
            "                                                                 \n",
            " conv2d_3 (Conv2D)           (None, 44, 44, 64)        36928     \n",
            "                                                                 \n",
            " max_pooling2d_1 (MaxPooling  (None, 22, 22, 64)       0         \n",
            " 2D)                                                             \n",
            "                                                                 \n",
            " dropout_1 (Dropout)         (None, 22, 22, 64)        0         \n",
            "                                                                 \n",
            " flatten (Flatten)           (None, 30976)             0         \n",
            "                                                                 \n",
            " dense (Dense)               (None, 512)               15860224  \n",
            "                                                                 \n",
            " dropout_2 (Dropout)         (None, 512)               0         \n",
            "                                                                 \n",
            " dense_1 (Dense)             (None, 100)               51300     \n",
            "                                                                 \n",
            "=================================================================\n",
            "Total params: 15,977,092\n",
            "Trainable params: 15,977,092\n",
            "Non-trainable params: 0\n",
            "_________________________________________________________________\n"
          ]
        }
      ]
    },
    {
      "cell_type": "code",
      "source": [
        "learning_rate=0.0005\n",
        "decay=1e-6\n",
        "momentum=0.8\n",
        "nesterov=True\n",
        "sgd_optimizer=SGD(learning_rate=learning_rate,decay=decay,\n",
        "momentum=momentum,nesterov=nesterov)"
      ],
      "metadata": {
        "id": "WvRAnEkDooSj"
      },
      "execution_count": null,
      "outputs": []
    },
    {
      "cell_type": "code",
      "source": [
        "opt = Adam(learning_rate=0.00001) "
      ],
      "metadata": {
        "id": "ZwAf96SuorN7"
      },
      "execution_count": null,
      "outputs": []
    },
    {
      "cell_type": "code",
      "source": [
        "face_recognition_model.compile(loss='categorical_crossentropy',optimizer=opt,\n",
        "metrics=['accuracy'])"
      ],
      "metadata": {
        "id": "w0w2IPkFosJ-"
      },
      "execution_count": null,
      "outputs": []
    },
    {
      "cell_type": "code",
      "source": [
        "batch_size=20\n",
        "epochs=100\n",
        "face_recognition_model.fit(train_input,train_output,batch_size=batch_size,\\\n",
        "                epochs = epochs, validation_split = 0.3)"
      ],
      "metadata": {
        "colab": {
          "base_uri": "https://localhost:8080/"
        },
        "id": "4WU3SF3ZotRY",
        "outputId": "72363e63-4683-4cb7-a959-1b3cec0d9d28"
      },
      "execution_count": null,
      "outputs": [
        {
          "output_type": "stream",
          "name": "stdout",
          "text": [
            "Epoch 1/100\n",
            "2434/2434 [==============================] - 67s 23ms/step - loss: 5.3271 - accuracy: 0.0218 - val_loss: 5.0613 - val_accuracy: 0.0525\n",
            "Epoch 2/100\n",
            "2434/2434 [==============================] - 54s 22ms/step - loss: 4.8989 - accuracy: 0.0589 - val_loss: 4.6992 - val_accuracy: 0.1067\n",
            "Epoch 3/100\n",
            "2434/2434 [==============================] - 55s 22ms/step - loss: 4.6132 - accuracy: 0.0982 - val_loss: 4.4489 - val_accuracy: 0.1403\n",
            "Epoch 4/100\n",
            "2434/2434 [==============================] - 56s 23ms/step - loss: 4.4036 - accuracy: 0.1352 - val_loss: 4.2709 - val_accuracy: 0.1759\n",
            "Epoch 5/100\n",
            "2434/2434 [==============================] - 56s 23ms/step - loss: 4.2284 - accuracy: 0.1694 - val_loss: 4.1394 - val_accuracy: 0.2078\n",
            "Epoch 6/100\n",
            "2434/2434 [==============================] - 56s 23ms/step - loss: 4.0743 - accuracy: 0.1999 - val_loss: 4.0323 - val_accuracy: 0.2301\n",
            "Epoch 7/100\n",
            "2434/2434 [==============================] - 56s 23ms/step - loss: 3.9390 - accuracy: 0.2286 - val_loss: 3.9375 - val_accuracy: 0.2486\n",
            "Epoch 8/100\n",
            "2434/2434 [==============================] - 56s 23ms/step - loss: 3.8056 - accuracy: 0.2534 - val_loss: 3.8556 - val_accuracy: 0.2721\n",
            "Epoch 9/100\n",
            "2434/2434 [==============================] - 56s 23ms/step - loss: 3.6769 - accuracy: 0.2788 - val_loss: 3.7765 - val_accuracy: 0.2873\n",
            "Epoch 10/100\n",
            "2434/2434 [==============================] - 56s 23ms/step - loss: 3.5520 - accuracy: 0.3033 - val_loss: 3.7142 - val_accuracy: 0.3030\n",
            "Epoch 11/100\n",
            "2434/2434 [==============================] - 56s 23ms/step - loss: 3.4320 - accuracy: 0.3268 - val_loss: 3.6524 - val_accuracy: 0.3168\n",
            "Epoch 12/100\n",
            "2434/2434 [==============================] - 56s 23ms/step - loss: 3.3115 - accuracy: 0.3494 - val_loss: 3.6028 - val_accuracy: 0.3322\n",
            "Epoch 13/100\n",
            "2434/2434 [==============================] - 56s 23ms/step - loss: 3.1912 - accuracy: 0.3738 - val_loss: 3.5420 - val_accuracy: 0.3456\n",
            "Epoch 14/100\n",
            "2434/2434 [==============================] - 56s 23ms/step - loss: 3.0771 - accuracy: 0.3962 - val_loss: 3.5085 - val_accuracy: 0.3560\n",
            "Epoch 15/100\n",
            "2434/2434 [==============================] - 56s 23ms/step - loss: 2.9550 - accuracy: 0.4199 - val_loss: 3.4759 - val_accuracy: 0.3658\n",
            "Epoch 16/100\n",
            "2434/2434 [==============================] - 56s 23ms/step - loss: 2.8363 - accuracy: 0.4404 - val_loss: 3.4283 - val_accuracy: 0.3781\n",
            "Epoch 17/100\n",
            "2434/2434 [==============================] - 56s 23ms/step - loss: 2.7247 - accuracy: 0.4625 - val_loss: 3.4070 - val_accuracy: 0.3891\n",
            "Epoch 18/100\n",
            "2434/2434 [==============================] - 56s 23ms/step - loss: 2.6077 - accuracy: 0.4846 - val_loss: 3.3759 - val_accuracy: 0.3969\n",
            "Epoch 19/100\n",
            "2434/2434 [==============================] - 56s 23ms/step - loss: 2.4981 - accuracy: 0.5049 - val_loss: 3.3645 - val_accuracy: 0.4054\n",
            "Epoch 20/100\n",
            "2434/2434 [==============================] - 56s 23ms/step - loss: 2.3847 - accuracy: 0.5275 - val_loss: 3.3513 - val_accuracy: 0.4131\n",
            "Epoch 21/100\n",
            "2434/2434 [==============================] - 56s 23ms/step - loss: 2.2750 - accuracy: 0.5503 - val_loss: 3.3361 - val_accuracy: 0.4225\n",
            "Epoch 22/100\n",
            "2434/2434 [==============================] - 56s 23ms/step - loss: 2.1662 - accuracy: 0.5677 - val_loss: 3.3408 - val_accuracy: 0.4290\n",
            "Epoch 23/100\n",
            "2434/2434 [==============================] - 56s 23ms/step - loss: 2.0662 - accuracy: 0.5881 - val_loss: 3.3394 - val_accuracy: 0.4340\n",
            "Epoch 24/100\n",
            "2434/2434 [==============================] - 56s 23ms/step - loss: 1.9613 - accuracy: 0.6106 - val_loss: 3.3537 - val_accuracy: 0.4379\n",
            "Epoch 25/100\n",
            "2434/2434 [==============================] - 56s 23ms/step - loss: 1.8559 - accuracy: 0.6296 - val_loss: 3.3554 - val_accuracy: 0.4445\n",
            "Epoch 26/100\n",
            "2434/2434 [==============================] - 56s 23ms/step - loss: 1.7729 - accuracy: 0.6507 - val_loss: 3.3735 - val_accuracy: 0.4460\n",
            "Epoch 27/100\n",
            "2434/2434 [==============================] - 56s 23ms/step - loss: 1.6807 - accuracy: 0.6690 - val_loss: 3.3890 - val_accuracy: 0.4533\n",
            "Epoch 28/100\n",
            "2434/2434 [==============================] - 56s 23ms/step - loss: 1.5975 - accuracy: 0.6860 - val_loss: 3.4345 - val_accuracy: 0.4537\n",
            "Epoch 29/100\n",
            "2434/2434 [==============================] - 56s 23ms/step - loss: 1.5143 - accuracy: 0.7048 - val_loss: 3.4486 - val_accuracy: 0.4577\n",
            "Epoch 30/100\n",
            "2434/2434 [==============================] - 56s 23ms/step - loss: 1.4517 - accuracy: 0.7217 - val_loss: 3.5116 - val_accuracy: 0.4599\n",
            "Epoch 31/100\n",
            "2434/2434 [==============================] - 56s 23ms/step - loss: 1.3807 - accuracy: 0.7355 - val_loss: 3.5305 - val_accuracy: 0.4641\n",
            "Epoch 32/100\n",
            "2434/2434 [==============================] - 56s 23ms/step - loss: 1.3128 - accuracy: 0.7553 - val_loss: 3.6095 - val_accuracy: 0.4652\n",
            "Epoch 33/100\n",
            "2434/2434 [==============================] - 56s 23ms/step - loss: 1.2465 - accuracy: 0.7699 - val_loss: 3.6320 - val_accuracy: 0.4663\n",
            "Epoch 34/100\n",
            "2434/2434 [==============================] - 56s 23ms/step - loss: 1.1953 - accuracy: 0.7821 - val_loss: 3.6819 - val_accuracy: 0.4652\n",
            "Epoch 35/100\n",
            "2434/2434 [==============================] - 56s 23ms/step - loss: 1.1433 - accuracy: 0.7963 - val_loss: 3.7017 - val_accuracy: 0.4673\n",
            "Epoch 36/100\n",
            "2434/2434 [==============================] - 56s 23ms/step - loss: 1.0981 - accuracy: 0.8070 - val_loss: 3.7520 - val_accuracy: 0.4678\n",
            "Epoch 37/100\n",
            "2434/2434 [==============================] - 56s 23ms/step - loss: 1.0618 - accuracy: 0.8173 - val_loss: 3.8017 - val_accuracy: 0.4685\n",
            "Epoch 38/100\n",
            "2434/2434 [==============================] - 56s 23ms/step - loss: 1.0250 - accuracy: 0.8267 - val_loss: 3.8431 - val_accuracy: 0.4695\n",
            "Epoch 39/100\n",
            "2434/2434 [==============================] - 56s 23ms/step - loss: 0.9894 - accuracy: 0.8363 - val_loss: 3.9377 - val_accuracy: 0.4704\n",
            "Epoch 40/100\n",
            "2434/2434 [==============================] - 56s 23ms/step - loss: 0.9568 - accuracy: 0.8447 - val_loss: 3.8888 - val_accuracy: 0.4709\n",
            "Epoch 41/100\n",
            "2434/2434 [==============================] - 56s 23ms/step - loss: 0.9353 - accuracy: 0.8531 - val_loss: 3.9589 - val_accuracy: 0.4708\n",
            "Epoch 42/100\n",
            "2434/2434 [==============================] - 56s 23ms/step - loss: 0.8974 - accuracy: 0.8617 - val_loss: 3.9503 - val_accuracy: 0.4707\n",
            "Epoch 43/100\n",
            "2434/2434 [==============================] - 56s 23ms/step - loss: 0.8726 - accuracy: 0.8675 - val_loss: 4.0205 - val_accuracy: 0.4720\n",
            "Epoch 44/100\n",
            "2434/2434 [==============================] - 56s 23ms/step - loss: 0.8532 - accuracy: 0.8752 - val_loss: 4.0524 - val_accuracy: 0.4722\n",
            "Epoch 45/100\n",
            "2434/2434 [==============================] - 56s 23ms/step - loss: 0.8293 - accuracy: 0.8816 - val_loss: 4.1252 - val_accuracy: 0.4740\n",
            "Epoch 46/100\n",
            "2434/2434 [==============================] - 56s 23ms/step - loss: 0.8151 - accuracy: 0.8849 - val_loss: 4.1170 - val_accuracy: 0.4741\n",
            "Epoch 47/100\n",
            "2434/2434 [==============================] - 56s 23ms/step - loss: 0.7952 - accuracy: 0.8890 - val_loss: 4.1864 - val_accuracy: 0.4715\n",
            "Epoch 48/100\n",
            "2434/2434 [==============================] - 56s 23ms/step - loss: 0.7751 - accuracy: 0.8962 - val_loss: 4.1955 - val_accuracy: 0.4728\n",
            "Epoch 49/100\n",
            "2434/2434 [==============================] - 56s 23ms/step - loss: 0.7714 - accuracy: 0.8946 - val_loss: 4.1995 - val_accuracy: 0.4723\n",
            "Epoch 50/100\n",
            "2434/2434 [==============================] - 56s 23ms/step - loss: 0.7509 - accuracy: 0.9023 - val_loss: 4.2426 - val_accuracy: 0.4710\n",
            "Epoch 51/100\n",
            "2434/2434 [==============================] - 56s 23ms/step - loss: 0.7432 - accuracy: 0.9067 - val_loss: 4.2796 - val_accuracy: 0.4751\n",
            "Epoch 52/100\n",
            "2434/2434 [==============================] - 56s 23ms/step - loss: 0.7289 - accuracy: 0.9091 - val_loss: 4.3259 - val_accuracy: 0.4726\n",
            "Epoch 53/100\n",
            "2434/2434 [==============================] - 56s 23ms/step - loss: 0.7182 - accuracy: 0.9109 - val_loss: 4.2954 - val_accuracy: 0.4712\n",
            "Epoch 54/100\n",
            "2434/2434 [==============================] - 56s 23ms/step - loss: 0.7026 - accuracy: 0.9147 - val_loss: 4.3455 - val_accuracy: 0.4735\n",
            "Epoch 55/100\n",
            "2434/2434 [==============================] - 56s 23ms/step - loss: 0.6881 - accuracy: 0.9182 - val_loss: 4.3333 - val_accuracy: 0.4743\n",
            "Epoch 56/100\n",
            "2434/2434 [==============================] - 56s 23ms/step - loss: 0.6843 - accuracy: 0.9200 - val_loss: 4.3985 - val_accuracy: 0.4740\n",
            "Epoch 57/100\n",
            "2434/2434 [==============================] - 56s 23ms/step - loss: 0.6764 - accuracy: 0.9216 - val_loss: 4.4366 - val_accuracy: 0.4726\n",
            "Epoch 58/100\n",
            "2434/2434 [==============================] - 56s 23ms/step - loss: 0.6673 - accuracy: 0.9244 - val_loss: 4.3877 - val_accuracy: 0.4727\n",
            "Epoch 59/100\n",
            "2434/2434 [==============================] - 56s 23ms/step - loss: 0.6567 - accuracy: 0.9266 - val_loss: 4.4271 - val_accuracy: 0.4744\n",
            "Epoch 60/100\n",
            "2434/2434 [==============================] - 56s 23ms/step - loss: 0.6522 - accuracy: 0.9278 - val_loss: 4.4567 - val_accuracy: 0.4746\n",
            "Epoch 61/100\n",
            "2434/2434 [==============================] - 56s 23ms/step - loss: 0.6257 - accuracy: 0.9343 - val_loss: 4.5248 - val_accuracy: 0.4761\n",
            "Epoch 62/100\n",
            "2434/2434 [==============================] - 56s 23ms/step - loss: 0.6348 - accuracy: 0.9320 - val_loss: 4.5302 - val_accuracy: 0.4742\n",
            "Epoch 63/100\n",
            "2434/2434 [==============================] - 56s 23ms/step - loss: 0.6230 - accuracy: 0.9358 - val_loss: 4.5554 - val_accuracy: 0.4743\n",
            "Epoch 64/100\n",
            "2434/2434 [==============================] - 56s 23ms/step - loss: 0.6154 - accuracy: 0.9371 - val_loss: 4.5704 - val_accuracy: 0.4746\n",
            "Epoch 65/100\n",
            "2434/2434 [==============================] - 56s 23ms/step - loss: 0.6058 - accuracy: 0.9401 - val_loss: 4.5708 - val_accuracy: 0.4752\n",
            "Epoch 66/100\n",
            "2434/2434 [==============================] - 56s 23ms/step - loss: 0.6077 - accuracy: 0.9386 - val_loss: 4.5255 - val_accuracy: 0.4762\n",
            "Epoch 67/100\n",
            "2434/2434 [==============================] - 56s 23ms/step - loss: 0.5979 - accuracy: 0.9412 - val_loss: 4.6243 - val_accuracy: 0.4806\n",
            "Epoch 68/100\n",
            "2434/2434 [==============================] - 56s 23ms/step - loss: 0.5879 - accuracy: 0.9432 - val_loss: 4.5879 - val_accuracy: 0.4770\n",
            "Epoch 69/100\n",
            "2434/2434 [==============================] - 56s 23ms/step - loss: 0.5930 - accuracy: 0.9411 - val_loss: 4.5778 - val_accuracy: 0.4783\n",
            "Epoch 70/100\n",
            "2434/2434 [==============================] - 56s 23ms/step - loss: 0.5880 - accuracy: 0.9427 - val_loss: 4.6350 - val_accuracy: 0.4760\n",
            "Epoch 71/100\n",
            "2434/2434 [==============================] - 56s 23ms/step - loss: 0.5814 - accuracy: 0.9432 - val_loss: 4.5855 - val_accuracy: 0.4738\n",
            "Epoch 72/100\n",
            "2434/2434 [==============================] - 56s 23ms/step - loss: 0.5717 - accuracy: 0.9469 - val_loss: 4.5641 - val_accuracy: 0.4747\n",
            "Epoch 73/100\n",
            "2434/2434 [==============================] - 56s 23ms/step - loss: 0.5676 - accuracy: 0.9467 - val_loss: 4.6992 - val_accuracy: 0.4768\n",
            "Epoch 74/100\n",
            "2434/2434 [==============================] - 56s 23ms/step - loss: 0.5650 - accuracy: 0.9465 - val_loss: 4.6327 - val_accuracy: 0.4769\n",
            "Epoch 75/100\n",
            "2434/2434 [==============================] - 56s 23ms/step - loss: 0.5534 - accuracy: 0.9507 - val_loss: 4.6565 - val_accuracy: 0.4770\n",
            "Epoch 76/100\n",
            "2434/2434 [==============================] - 56s 23ms/step - loss: 0.5545 - accuracy: 0.9483 - val_loss: 4.7005 - val_accuracy: 0.4791\n",
            "Epoch 77/100\n",
            "2434/2434 [==============================] - 56s 23ms/step - loss: 0.5468 - accuracy: 0.9515 - val_loss: 4.6084 - val_accuracy: 0.4759\n",
            "Epoch 78/100\n",
            "2434/2434 [==============================] - 56s 23ms/step - loss: 0.5455 - accuracy: 0.9504 - val_loss: 4.6453 - val_accuracy: 0.4787\n",
            "Epoch 79/100\n",
            "2434/2434 [==============================] - 56s 23ms/step - loss: 0.5389 - accuracy: 0.9516 - val_loss: 4.6583 - val_accuracy: 0.4759\n",
            "Epoch 80/100\n",
            "2434/2434 [==============================] - 56s 23ms/step - loss: 0.5293 - accuracy: 0.9545 - val_loss: 4.7460 - val_accuracy: 0.4786\n",
            "Epoch 81/100\n",
            "2434/2434 [==============================] - 56s 23ms/step - loss: 0.5261 - accuracy: 0.9550 - val_loss: 4.6566 - val_accuracy: 0.4779\n",
            "Epoch 82/100\n",
            "2434/2434 [==============================] - 56s 23ms/step - loss: 0.5231 - accuracy: 0.9552 - val_loss: 4.7179 - val_accuracy: 0.4779\n",
            "Epoch 83/100\n",
            "2434/2434 [==============================] - 56s 23ms/step - loss: 0.5215 - accuracy: 0.9547 - val_loss: 4.7410 - val_accuracy: 0.4759\n",
            "Epoch 84/100\n",
            "2434/2434 [==============================] - 56s 23ms/step - loss: 0.5188 - accuracy: 0.9558 - val_loss: 4.7641 - val_accuracy: 0.4779\n",
            "Epoch 85/100\n",
            "2434/2434 [==============================] - 55s 23ms/step - loss: 0.5116 - accuracy: 0.9565 - val_loss: 4.6733 - val_accuracy: 0.4780\n",
            "Epoch 86/100\n",
            "2434/2434 [==============================] - 56s 23ms/step - loss: 0.5099 - accuracy: 0.9568 - val_loss: 4.6731 - val_accuracy: 0.4769\n",
            "Epoch 87/100\n",
            "2434/2434 [==============================] - 56s 23ms/step - loss: 0.5045 - accuracy: 0.9583 - val_loss: 4.8093 - val_accuracy: 0.4781\n",
            "Epoch 88/100\n",
            "2434/2434 [==============================] - 55s 23ms/step - loss: 0.5009 - accuracy: 0.9587 - val_loss: 4.7186 - val_accuracy: 0.4799\n",
            "Epoch 89/100\n",
            "2434/2434 [==============================] - 56s 23ms/step - loss: 0.4971 - accuracy: 0.9591 - val_loss: 4.6895 - val_accuracy: 0.4793\n",
            "Epoch 90/100\n",
            "2434/2434 [==============================] - 56s 23ms/step - loss: 0.4943 - accuracy: 0.9599 - val_loss: 4.7180 - val_accuracy: 0.4780\n",
            "Epoch 91/100\n",
            "2434/2434 [==============================] - 56s 23ms/step - loss: 0.4887 - accuracy: 0.9609 - val_loss: 4.7412 - val_accuracy: 0.4801\n",
            "Epoch 92/100\n",
            "2434/2434 [==============================] - 56s 23ms/step - loss: 0.4838 - accuracy: 0.9616 - val_loss: 4.6791 - val_accuracy: 0.4756\n",
            "Epoch 93/100\n",
            "2434/2434 [==============================] - 56s 23ms/step - loss: 0.4813 - accuracy: 0.9617 - val_loss: 4.7663 - val_accuracy: 0.4774\n",
            "Epoch 94/100\n",
            "2434/2434 [==============================] - 56s 23ms/step - loss: 0.4813 - accuracy: 0.9607 - val_loss: 4.8262 - val_accuracy: 0.4786\n",
            "Epoch 95/100\n",
            "2434/2434 [==============================] - 56s 23ms/step - loss: 0.4751 - accuracy: 0.9624 - val_loss: 4.8403 - val_accuracy: 0.4772\n",
            "Epoch 96/100\n",
            "2434/2434 [==============================] - 56s 23ms/step - loss: 0.4750 - accuracy: 0.9621 - val_loss: 4.8395 - val_accuracy: 0.4762\n",
            "Epoch 97/100\n",
            "2434/2434 [==============================] - 56s 23ms/step - loss: 0.4661 - accuracy: 0.9635 - val_loss: 4.8478 - val_accuracy: 0.4770\n",
            "Epoch 98/100\n",
            "2434/2434 [==============================] - 56s 23ms/step - loss: 0.4663 - accuracy: 0.9632 - val_loss: 4.8634 - val_accuracy: 0.4781\n",
            "Epoch 99/100\n",
            "2434/2434 [==============================] - 56s 23ms/step - loss: 0.4624 - accuracy: 0.9637 - val_loss: 4.8479 - val_accuracy: 0.4763\n",
            "Epoch 100/100\n",
            "2434/2434 [==============================] - 56s 23ms/step - loss: 0.4569 - accuracy: 0.9644 - val_loss: 4.7994 - val_accuracy: 0.4780\n"
          ]
        },
        {
          "output_type": "execute_result",
          "data": {
            "text/plain": [
              "<keras.callbacks.History at 0x7efd30673f10>"
            ]
          },
          "metadata": {},
          "execution_count": 20
        }
      ]
    },
    {
      "cell_type": "code",
      "source": [
        "MODEL_PATH='/content/drive/MyDrive/Colab Notebooks/HW5_data/Training Result/face_model_train_small_12trial.h5'\n",
        "face_recognition_model.save(MODEL_PATH)"
      ],
      "metadata": {
        "id": "j0tWHIVwouSY"
      },
      "execution_count": null,
      "outputs": []
    },
    {
      "cell_type": "markdown",
      "source": [
        "# Face Recognition (Colab)"
      ],
      "metadata": {
        "id": "tBuryizIl-Ay"
      }
    },
    {
      "cell_type": "code",
      "source": [
        "import cv2\n",
        "import os\n",
        "import numpy as np\n",
        "import keras\n",
        "from keras.models import load_model\n",
        "import face_recognition"
      ],
      "metadata": {
        "id": "ypcmm14PRvfr"
      },
      "execution_count": null,
      "outputs": []
    },
    {
      "cell_type": "code",
      "source": [
        "def resize_pic(image,size=(100,100)):\n",
        "  height,width,_=image.shape\n",
        "  longest_edge=max(height,width)\n",
        "  top,bottom,left,right=0,0,0,0\n",
        "  if height<longest_edge:\n",
        "    height_diff=longest_edge-height\n",
        "    top=int(height_diff/2)\n",
        "    bottom=height_diff-top\n",
        "  elif width<longest_edge:\n",
        "    width_diff=longest_edge-width\n",
        "    left=int(width_diff/2)\n",
        "    right=width_diff-left\n",
        "\n",
        "  image_with_border=cv2.copyMakeBorder(image,top,bottom,left,right,cv2.BORDER_CONSTANT,value = [0,0,0])\n",
        "\n",
        "  resized_image=cv2.resize(image_with_border,size)\n",
        "\n",
        "  return resized_image"
      ],
      "metadata": {
        "id": "9XYDwYvdR3Au"
      },
      "execution_count": null,
      "outputs": []
    },
    {
      "cell_type": "code",
      "source": [
        "face_recognition_model = keras.Sequential()\n",
        "MODEL_PATH = '/content/drive/MyDrive/Colab Notebooks/HW5_data/Training Result/face_model_train_small_12trial.h5'\n",
        "face_recognition_model = load_model(MODEL_PATH)"
      ],
      "metadata": {
        "id": "e-eUPzgPR4kZ"
      },
      "execution_count": null,
      "outputs": []
    },
    {
      "cell_type": "code",
      "source": [
        "test_input = np.load(\"/content/drive/MyDrive/Colab Notebooks/HW5_data/test_data_face_crop.npy\")"
      ],
      "metadata": {
        "id": "B2MFJSUQR53D"
      },
      "execution_count": null,
      "outputs": []
    },
    {
      "cell_type": "code",
      "source": [
        "predict_class = []\n",
        "test_number = []\n",
        "len_test = test_input.shape[0]\n",
        "for idx in range (len_test):\n",
        "  yhat = face_recognition_model.predict(test_input[idx:(idx+1)])\n",
        "  yhat_array = np.rint(yhat)\n",
        "  predict = np.argmax(yhat_array)\n",
        "  test_number.append(idx)\n",
        "  print(idx)\n",
        "  predict_class.append(predict)"
      ],
      "metadata": {
        "id": "VV5eJM2sR6ZL"
      },
      "execution_count": null,
      "outputs": []
    },
    {
      "cell_type": "code",
      "source": [
        "import pandas as pd\n",
        "pred_table = pd.DataFrame(data = {'test_number':test_number,'predict':predict_class})"
      ],
      "metadata": {
        "id": "ZBng0G-DR7-7"
      },
      "execution_count": null,
      "outputs": []
    },
    {
      "cell_type": "code",
      "source": [
        "category_path = \"/content/drive/MyDrive/Colab Notebooks/HW5_data/ece595ml-s2022/category.csv\"\n",
        "category = pd.read_csv(category_path, header = 0)"
      ],
      "metadata": {
        "id": "peJCYxigR9jl"
      },
      "execution_count": null,
      "outputs": []
    },
    {
      "cell_type": "code",
      "source": [
        "predict_class_number = pred_table['test_number'].shape[0]"
      ],
      "metadata": {
        "id": "Ifg8-c9gstJR"
      },
      "execution_count": null,
      "outputs": []
    },
    {
      "cell_type": "code",
      "source": [
        "predict_name_array = []\n",
        "for ii in range(predict_class_number):\n",
        "  predict_index = pred_table['test_number'][ii]\n",
        "  predict_name = category.loc[category['Index'] == pred_table['predict'][ii],'Category'].values\n",
        "  predict_name_0 = predict_name\n",
        "  predict_name_array.append(predict_name_0)"
      ],
      "metadata": {
        "id": "lR-8xfZtDyEK"
      },
      "execution_count": null,
      "outputs": []
    },
    {
      "cell_type": "code",
      "source": [
        "pred_table_name = pd.DataFrame(data = {'test_number':test_number,'predict':predict_class,'name':predict_name_array})"
      ],
      "metadata": {
        "id": "CSSRaRiEvu0O"
      },
      "execution_count": null,
      "outputs": []
    },
    {
      "cell_type": "code",
      "source": [
        "pred_table_name['name'] = pred_table_name['name'].str.get(0)"
      ],
      "metadata": {
        "id": "doImRq90G40T"
      },
      "execution_count": null,
      "outputs": []
    },
    {
      "cell_type": "code",
      "source": [
        "pred_table_name"
      ],
      "metadata": {
        "colab": {
          "base_uri": "https://localhost:8080/",
          "height": 424
        },
        "id": "V3J1w6hBHylE",
        "outputId": "2ac57c43-e125-4548-d682-55f7356c44dc"
      },
      "execution_count": null,
      "outputs": [
        {
          "output_type": "execute_result",
          "data": {
            "text/plain": [
              "      test_number  predict             name\n",
              "0               0       26  Adriana Barraza\n",
              "1               1       66    Albert Finney\n",
              "2               2       52     Adrien Brody\n",
              "3               3       26  Adriana Barraza\n",
              "4               4       72    Albert Brooks\n",
              "...           ...      ...              ...\n",
              "4972         4972       48   Andrew Lincoln\n",
              "4973         4973       35  Abigail Breslin\n",
              "4974         4974       95       Bill Hader\n",
              "4975         4975       25      Amanda Crew\n",
              "4976         4976       14       Bernie Mac\n",
              "\n",
              "[4977 rows x 3 columns]"
            ],
            "text/html": [
              "\n",
              "  <div id=\"df-8b559155-8bd2-4409-9386-f1e63425d96d\">\n",
              "    <div class=\"colab-df-container\">\n",
              "      <div>\n",
              "<style scoped>\n",
              "    .dataframe tbody tr th:only-of-type {\n",
              "        vertical-align: middle;\n",
              "    }\n",
              "\n",
              "    .dataframe tbody tr th {\n",
              "        vertical-align: top;\n",
              "    }\n",
              "\n",
              "    .dataframe thead th {\n",
              "        text-align: right;\n",
              "    }\n",
              "</style>\n",
              "<table border=\"1\" class=\"dataframe\">\n",
              "  <thead>\n",
              "    <tr style=\"text-align: right;\">\n",
              "      <th></th>\n",
              "      <th>test_number</th>\n",
              "      <th>predict</th>\n",
              "      <th>name</th>\n",
              "    </tr>\n",
              "  </thead>\n",
              "  <tbody>\n",
              "    <tr>\n",
              "      <th>0</th>\n",
              "      <td>0</td>\n",
              "      <td>26</td>\n",
              "      <td>Adriana Barraza</td>\n",
              "    </tr>\n",
              "    <tr>\n",
              "      <th>1</th>\n",
              "      <td>1</td>\n",
              "      <td>66</td>\n",
              "      <td>Albert Finney</td>\n",
              "    </tr>\n",
              "    <tr>\n",
              "      <th>2</th>\n",
              "      <td>2</td>\n",
              "      <td>52</td>\n",
              "      <td>Adrien Brody</td>\n",
              "    </tr>\n",
              "    <tr>\n",
              "      <th>3</th>\n",
              "      <td>3</td>\n",
              "      <td>26</td>\n",
              "      <td>Adriana Barraza</td>\n",
              "    </tr>\n",
              "    <tr>\n",
              "      <th>4</th>\n",
              "      <td>4</td>\n",
              "      <td>72</td>\n",
              "      <td>Albert Brooks</td>\n",
              "    </tr>\n",
              "    <tr>\n",
              "      <th>...</th>\n",
              "      <td>...</td>\n",
              "      <td>...</td>\n",
              "      <td>...</td>\n",
              "    </tr>\n",
              "    <tr>\n",
              "      <th>4972</th>\n",
              "      <td>4972</td>\n",
              "      <td>48</td>\n",
              "      <td>Andrew Lincoln</td>\n",
              "    </tr>\n",
              "    <tr>\n",
              "      <th>4973</th>\n",
              "      <td>4973</td>\n",
              "      <td>35</td>\n",
              "      <td>Abigail Breslin</td>\n",
              "    </tr>\n",
              "    <tr>\n",
              "      <th>4974</th>\n",
              "      <td>4974</td>\n",
              "      <td>95</td>\n",
              "      <td>Bill Hader</td>\n",
              "    </tr>\n",
              "    <tr>\n",
              "      <th>4975</th>\n",
              "      <td>4975</td>\n",
              "      <td>25</td>\n",
              "      <td>Amanda Crew</td>\n",
              "    </tr>\n",
              "    <tr>\n",
              "      <th>4976</th>\n",
              "      <td>4976</td>\n",
              "      <td>14</td>\n",
              "      <td>Bernie Mac</td>\n",
              "    </tr>\n",
              "  </tbody>\n",
              "</table>\n",
              "<p>4977 rows × 3 columns</p>\n",
              "</div>\n",
              "      <button class=\"colab-df-convert\" onclick=\"convertToInteractive('df-8b559155-8bd2-4409-9386-f1e63425d96d')\"\n",
              "              title=\"Convert this dataframe to an interactive table.\"\n",
              "              style=\"display:none;\">\n",
              "        \n",
              "  <svg xmlns=\"http://www.w3.org/2000/svg\" height=\"24px\"viewBox=\"0 0 24 24\"\n",
              "       width=\"24px\">\n",
              "    <path d=\"M0 0h24v24H0V0z\" fill=\"none\"/>\n",
              "    <path d=\"M18.56 5.44l.94 2.06.94-2.06 2.06-.94-2.06-.94-.94-2.06-.94 2.06-2.06.94zm-11 1L8.5 8.5l.94-2.06 2.06-.94-2.06-.94L8.5 2.5l-.94 2.06-2.06.94zm10 10l.94 2.06.94-2.06 2.06-.94-2.06-.94-.94-2.06-.94 2.06-2.06.94z\"/><path d=\"M17.41 7.96l-1.37-1.37c-.4-.4-.92-.59-1.43-.59-.52 0-1.04.2-1.43.59L10.3 9.45l-7.72 7.72c-.78.78-.78 2.05 0 2.83L4 21.41c.39.39.9.59 1.41.59.51 0 1.02-.2 1.41-.59l7.78-7.78 2.81-2.81c.8-.78.8-2.07 0-2.86zM5.41 20L4 18.59l7.72-7.72 1.47 1.35L5.41 20z\"/>\n",
              "  </svg>\n",
              "      </button>\n",
              "      \n",
              "  <style>\n",
              "    .colab-df-container {\n",
              "      display:flex;\n",
              "      flex-wrap:wrap;\n",
              "      gap: 12px;\n",
              "    }\n",
              "\n",
              "    .colab-df-convert {\n",
              "      background-color: #E8F0FE;\n",
              "      border: none;\n",
              "      border-radius: 50%;\n",
              "      cursor: pointer;\n",
              "      display: none;\n",
              "      fill: #1967D2;\n",
              "      height: 32px;\n",
              "      padding: 0 0 0 0;\n",
              "      width: 32px;\n",
              "    }\n",
              "\n",
              "    .colab-df-convert:hover {\n",
              "      background-color: #E2EBFA;\n",
              "      box-shadow: 0px 1px 2px rgba(60, 64, 67, 0.3), 0px 1px 3px 1px rgba(60, 64, 67, 0.15);\n",
              "      fill: #174EA6;\n",
              "    }\n",
              "\n",
              "    [theme=dark] .colab-df-convert {\n",
              "      background-color: #3B4455;\n",
              "      fill: #D2E3FC;\n",
              "    }\n",
              "\n",
              "    [theme=dark] .colab-df-convert:hover {\n",
              "      background-color: #434B5C;\n",
              "      box-shadow: 0px 1px 3px 1px rgba(0, 0, 0, 0.15);\n",
              "      filter: drop-shadow(0px 1px 2px rgba(0, 0, 0, 0.3));\n",
              "      fill: #FFFFFF;\n",
              "    }\n",
              "  </style>\n",
              "\n",
              "      <script>\n",
              "        const buttonEl =\n",
              "          document.querySelector('#df-8b559155-8bd2-4409-9386-f1e63425d96d button.colab-df-convert');\n",
              "        buttonEl.style.display =\n",
              "          google.colab.kernel.accessAllowed ? 'block' : 'none';\n",
              "\n",
              "        async function convertToInteractive(key) {\n",
              "          const element = document.querySelector('#df-8b559155-8bd2-4409-9386-f1e63425d96d');\n",
              "          const dataTable =\n",
              "            await google.colab.kernel.invokeFunction('convertToInteractive',\n",
              "                                                     [key], {});\n",
              "          if (!dataTable) return;\n",
              "\n",
              "          const docLinkHtml = 'Like what you see? Visit the ' +\n",
              "            '<a target=\"_blank\" href=https://colab.research.google.com/notebooks/data_table.ipynb>data table notebook</a>'\n",
              "            + ' to learn more about interactive tables.';\n",
              "          element.innerHTML = '';\n",
              "          dataTable['output_type'] = 'display_data';\n",
              "          await google.colab.output.renderOutput(dataTable, element);\n",
              "          const docLink = document.createElement('div');\n",
              "          docLink.innerHTML = docLinkHtml;\n",
              "          element.appendChild(docLink);\n",
              "        }\n",
              "      </script>\n",
              "    </div>\n",
              "  </div>\n",
              "  "
            ]
          },
          "metadata": {},
          "execution_count": 37
        }
      ]
    },
    {
      "cell_type": "code",
      "source": [
        "pd.DataFrame.to_csv(pred_table_name,'/content/drive/MyDrive/Colab Notebooks/HW5_data/ece595ml-s2022/submission_9.csv') "
      ],
      "metadata": {
        "id": "05Wq0q8zzYxq"
      },
      "execution_count": null,
      "outputs": []
    },
    {
      "cell_type": "markdown",
      "source": [
        "# Output PDF"
      ],
      "metadata": {
        "id": "Y5PZ3ODhTA4h"
      }
    },
    {
      "cell_type": "code",
      "source": [
        "%%capture\n",
        "!wget -nc https://raw.githubusercontent.com/brpy/colab-pdf/master/colab_pdf.py\n",
        "from colab_pdf import colab_pdf\n",
        "colab_pdf('ECE595HW5_Code.ipynb')"
      ],
      "metadata": {
        "id": "76QtMn7UTDs8"
      },
      "execution_count": null,
      "outputs": []
    },
    {
      "cell_type": "code",
      "source": [
        ""
      ],
      "metadata": {
        "id": "FsVOhS0nUToW"
      },
      "execution_count": null,
      "outputs": []
    }
  ]
}